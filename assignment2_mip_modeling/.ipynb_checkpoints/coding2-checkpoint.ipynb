{
 "cells": [
  {
   "cell_type": "code",
   "execution_count": 2,
   "metadata": {},
   "outputs": [],
   "source": [
    "import gurobipy as gp\n",
    "from gurobipy import Model, GRB, quicksum"
   ]
  },
  {
   "cell_type": "code",
   "execution_count": 4,
   "metadata": {},
   "outputs": [],
   "source": [
    "instance = './quercus_instances/answer1.txt'"
   ]
  },
  {
   "cell_type": "code",
   "execution_count": 42,
   "metadata": {},
   "outputs": [
    {
     "name": "stdout",
     "output_type": "stream",
     "text": [
      "4\n",
      "3\n",
      "[[(0, 5), (1, 3), (2, 7)], [(0, 4), (1, 2), (2, 5)], [(1, 3), (2, 4), (0, 9)], [(2, 2), (0, 6), (1, 2)]]\n"
     ]
    }
   ],
   "source": [
    "with open(instance) as f:\n",
    "    next(f)\n",
    "    n, m = (int(item) for item in next(f).split())\n",
    "    \n",
    "    tasks = [[(int(line.split()[i]),int(line.split()[i+1])) for i in range(0,machines*2,2)] for line in f]\n",
    "    print(tasks)"
   ]
  },
  {
   "cell_type": "code",
   "execution_count": 51,
   "metadata": {},
   "outputs": [
    {
     "name": "stdout",
     "output_type": "stream",
     "text": [
      "n jobs: 4 \n",
      "m machines: 3\n",
      "Set of jobs J: [0, 1, 2, 3]\n",
      "Set of machines M: [0, 1, 2]\n",
      "Set of operations O: [0, 1, 2]\n"
     ]
    }
   ],
   "source": [
    "J = [j for j in range(n)]\n",
    "M = [i for i in range(m)]\n",
    "O = [i for i in range(m)]\n",
    "\n",
    "print(\"n jobs:\", n, \"\\nm machines:\", m)\n",
    "print(\"Set of jobs J:\", J)\n",
    "print(\"Set of machines M:\", M)\n",
    "print(\"Set of operations O:\", O)"
   ]
  },
  {
   "cell_type": "code",
   "execution_count": 69,
   "metadata": {},
   "outputs": [
    {
     "name": "stdout",
     "output_type": "stream",
     "text": [
      "{(0, 0): 5, (0, 1): 3, (0, 2): 7, (1, 0): 4, (1, 1): 2, (1, 2): 5, (2, 0): 3, (2, 1): 4, (2, 2): 9, (3, 0): 2, (3, 1): 6, (3, 2): 2}\n"
     ]
    }
   ],
   "source": [
    "p = {(j,o): tasks[j][o][1] for j in J for o in O}\n",
    "print(p)"
   ]
  },
  {
   "cell_type": "code",
   "execution_count": 70,
   "metadata": {},
   "outputs": [
    {
     "name": "stdout",
     "output_type": "stream",
     "text": [
      "[(0, 0, 0), (0, 0, 1), (0, 0, 2), (0, 1, 0), (0, 1, 1), (0, 1, 2), (0, 2, 0), (0, 2, 1), (0, 2, 2), (0, 3, 0), (0, 3, 1), (0, 3, 2), (1, 0, 0), (1, 0, 1), (1, 0, 2), (1, 1, 0), (1, 1, 1), (1, 1, 2), (1, 2, 0), (1, 2, 1), (1, 2, 2), (1, 3, 0), (1, 3, 1), (1, 3, 2), (2, 0, 0), (2, 0, 1), (2, 0, 2), (2, 1, 0), (2, 1, 1), (2, 1, 2), (2, 2, 0), (2, 2, 1), (2, 2, 2), (2, 3, 0), (2, 3, 1), (2, 3, 2)]\n"
     ]
    }
   ],
   "source": [
    "A = [(i,j,o) for i in M for j in J for o in O]\n",
    "print(A)"
   ]
  },
  {
   "cell_type": "code",
   "execution_count": null,
   "metadata": {},
   "outputs": [],
   "source": []
  }
 ],
 "metadata": {
  "kernelspec": {
   "display_name": "Python 3",
   "language": "python",
   "name": "python3"
  },
  "language_info": {
   "codemirror_mode": {
    "name": "ipython",
    "version": 3
   },
   "file_extension": ".py",
   "mimetype": "text/x-python",
   "name": "python",
   "nbconvert_exporter": "python",
   "pygments_lexer": "ipython3",
   "version": "3.7.7"
  }
 },
 "nbformat": 4,
 "nbformat_minor": 4
}
