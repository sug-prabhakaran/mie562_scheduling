{
 "cells": [
  {
   "cell_type": "code",
   "execution_count": 1,
   "metadata": {},
   "outputs": [],
   "source": [
    "import gurobipy as gp\n",
    "from gurobipy import *"
   ]
  },
  {
   "cell_type": "code",
   "execution_count": 2,
   "metadata": {},
   "outputs": [],
   "source": [
    "instance = './quercus_instances/answer0.txt'"
   ]
  },
  {
   "cell_type": "code",
   "execution_count": 6,
   "metadata": {},
   "outputs": [
    {
     "name": "stdout",
     "output_type": "stream",
     "text": [
      "[[(0, 4), (1, 1), (2, 5)], [(1, 2), (2, 3), (1, 7)]]\n"
     ]
    }
   ],
   "source": [
    "with open(instance) as f:\n",
    "    next(f)\n",
    "    n, m = (int(item) for item in next(f).split())\n",
    "    \n",
    "    tasks = [[(int(line.split()[i]),int(line.split()[i+1])) \n",
    "              for i in range(0,m*2,2)] for line in f]\n",
    "    print(tasks)"
   ]
  },
  {
   "cell_type": "code",
   "execution_count": 4,
   "metadata": {
    "scrolled": true
   },
   "outputs": [
    {
     "name": "stdout",
     "output_type": "stream",
     "text": [
      "n jobs: 2\n",
      "m machines: 3\n",
      "\n",
      "Set of all jobs (Jobs): [0, 1]\n",
      "Set of all machines (K): [0, 1, 2]\n",
      "\n",
      "Set of all operations (J): [(0, 0), (0, 1), (0, 2), (1, 0), (1, 1), (1, 2)]\n"
     ]
    }
   ],
   "source": [
    "Jobs = [job for job in range(n)]\n",
    "J = [(job,task) for job in range(n) for task in range(m)]\n",
    "K = [k for k in range(m)]\n",
    "\n",
    "print(\"n jobs:\", n)\n",
    "print(\"m machines:\", m)\n",
    "print(\"\\nSet of all jobs (Jobs):\", Jobs) \n",
    "print(\"Set of all machines (K):\", K)\n",
    "print(\"\\nSet of all operations (J):\", J)"
   ]
  },
  {
   "cell_type": "code",
   "execution_count": 7,
   "metadata": {},
   "outputs": [
    {
     "name": "stdout",
     "output_type": "stream",
     "text": [
      "Processing times (P_j): {(0, 0): 4, (0, 1): 1, (0, 2): 5, (1, 0): 2, (1, 1): 3, (1, 2): 7}\n",
      "Large constant (M): 22\n"
     ]
    }
   ],
   "source": [
    "#(P_j) dictionary to access processing time for each operation j [key]\n",
    "p = {j:tasks[j[0]][j[1]][1] for j in J}\n",
    "print(\"Processing times (P_j):\", p)\n",
    "\n",
    "# some large constant\n",
    "M = sum(p.values())  #we set to sum of all p_j in instance\n",
    "print(\"Large constant (M):\", M)"
   ]
  },
  {
   "cell_type": "code",
   "execution_count": 11,
   "metadata": {},
   "outputs": [
    {
     "name": "stdout",
     "output_type": "stream",
     "text": [
      "[[(0, 0)], [(0, 1), (1, 0), (1, 2)], [(0, 2), (1, 1)]]\n"
     ]
    }
   ],
   "source": [
    "#set of operations on machine k out of all machines K\n",
    "J_k = [[] for _ in range(m)]\n",
    "for j in J:\n",
    "        for k in K:\n",
    "            if tasks[j[0]][j[1]][0]==k:\n",
    "                J_k[k].append((j))\n",
    "print(J_k)"
   ]
  },
  {
   "cell_type": "code",
   "execution_count": null,
   "metadata": {},
   "outputs": [],
   "source": [
    "#all operation pairs (j,i) s.t. i is constrained to be after j\n",
    "#all precedence constraints\n",
    "Epsilon = [(J[i-1],j) for i,j in enumerate(J) if i > 0 if j[0] == J[i-1][0]]\n",
    "Epsilon"
   ]
  },
  {
   "cell_type": "code",
   "execution_count": null,
   "metadata": {},
   "outputs": [],
   "source": [
    "#A will be set of all possible operation combinations in each J_k\n",
    "A = [(j,i) for k in K for j in J_k[k] for i in J_k[k] if j !=i]"
   ]
  },
  {
   "cell_type": "code",
   "execution_count": null,
   "metadata": {},
   "outputs": [],
   "source": [
    "model = gp.Model()          #create Gurobi model\n",
    "model.params.TimeLimit = 60 #set time limit in seconds"
   ]
  },
  {
   "cell_type": "code",
   "execution_count": null,
   "metadata": {},
   "outputs": [],
   "source": [
    "#Decision Variables\n",
    "S = model.addVars(J, vtype=GRB.INTEGER, name=\"S_j\")  #start time of operation j\n",
    "z = model.addVars(A, vtype=GRB.BINARY, name=\"Z_ji\")  #binary of if j before i \n",
    "Cmax = model.addVar(vtype=GRB.INTEGER, name=\"C_max\") #makespan"
   ]
  },
  {
   "cell_type": "code",
   "execution_count": null,
   "metadata": {},
   "outputs": [],
   "source": [
    "#1. Makespan Constraints\n",
    "#Cmax must be largest end-time of any op j in set J (all operations)\n",
    "model.addConstrs(Cmax >= (S[j] + p[j]) for j in J);"
   ]
  },
  {
   "cell_type": "code",
   "execution_count": null,
   "metadata": {},
   "outputs": [],
   "source": [
    "#2. Precedence Constraints\n",
    "#Start time of operation i must be greater than\n",
    "#End time of operation j for all (j,i) pairs in Epsilon\n",
    "#Epsilon is the set of all adjacent operation pairs in each job\n",
    "model.addConstrs(S[i]>=(S[j]+p[j]) for j,i in Epsilon);"
   ]
  },
  {
   "cell_type": "code",
   "execution_count": null,
   "metadata": {},
   "outputs": [],
   "source": [
    "#3. & #4. Resource Constraints\n",
    "#for each operation pair (j,i) for each resource k, if j is before i\n",
    "#then Start time of i is greater than finish time of j\n",
    "#otherwise: Start time of j is greater than finish time of i\n",
    "model.addConstrs(S[j] >= (S[i] + p[i] - M * z[j,i]) for j, i in A);\n",
    "model.addConstrs(S[i] >= (S[j] + p[j] - M * (1-z[j,i])) for j,i in A);"
   ]
  },
  {
   "cell_type": "code",
   "execution_count": null,
   "metadata": {},
   "outputs": [],
   "source": [
    "#5. Start time must be greater than 0\n",
    "model.addConstrs(S[j] >= 0 for j in J);"
   ]
  },
  {
   "cell_type": "code",
   "execution_count": null,
   "metadata": {},
   "outputs": [],
   "source": [
    "#6. Objective Function: MINIMIZE Cmax (makespan)\n",
    "model.setObjective(Cmax, GRB.MINIMIZE);\n",
    "model.optimize()"
   ]
  },
  {
   "cell_type": "code",
   "execution_count": null,
   "metadata": {},
   "outputs": [],
   "source": [
    "makespan = model.Objval\n",
    "schedule = {job:[int(S[j].x) for j in J if j[0]==job] for job in Jobs}\n",
    "solution = (makespan, schedule)\n",
    "print(solution)"
   ]
  }
 ],
 "metadata": {
  "kernelspec": {
   "display_name": "Python 3",
   "language": "python",
   "name": "python3"
  },
  "language_info": {
   "codemirror_mode": {
    "name": "ipython",
    "version": 3
   },
   "file_extension": ".py",
   "mimetype": "text/x-python",
   "name": "python",
   "nbconvert_exporter": "python",
   "pygments_lexer": "ipython3",
   "version": "3.7.7"
  }
 },
 "nbformat": 4,
 "nbformat_minor": 4
}
