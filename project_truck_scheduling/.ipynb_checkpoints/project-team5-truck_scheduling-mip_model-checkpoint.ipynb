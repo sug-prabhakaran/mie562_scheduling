{
 "cells": [
  {
   "cell_type": "markdown",
   "metadata": {},
   "source": [
    "# MIE562 Project - Truck Scheduling - MIP Model\n",
    "\n",
    "**Team 5 - Dylan Camus, Ryan Do, Fan Jia, Mattheus Magelhaus, Sugumar Prabhakaran**\n",
    "**Date: 8 Nov 2020"
   ]
  },
  {
   "cell_type": "code",
   "execution_count": 10,
   "metadata": {},
   "outputs": [],
   "source": [
    "import numpy as np"
   ]
  },
  {
   "cell_type": "markdown",
   "metadata": {},
   "source": [
    "## Introduction\n",
    "\n",
    "### 1. Sets\n",
    "   * Each container $k$ is in a set of containers $K$: \n",
    "       * $k \\in K$, where $K = \\left \\{1,2,3,\\ldots,k  \\right \\}$\n",
    "       \n",
    "   * Each carrier $j$ is in a set of carriers $J$: \n",
    "       * $j \\in J$, where $J = \\left \\{1,2,3,\\ldots,j  \\right \\}$\n",
    "       \n",
    "   * Each chassis $c$ is in a set of chassis, $C$: \n",
    "       * $c \\in C$, where $C = \\left \\{1,2,3,\\ldots,c  \\right \\}$\n",
    " \n",
    "   * $L$ is the set of travel legs: $L = \\left \\{1,2,3\\right\\}$, where:\n",
    "       * $1$ : terminal to transloading facility leg\n",
    "       * $2$ : terminal to stack leg\n",
    "       * $3$ : stack to transloading facility leg"
   ]
  },
  {
   "cell_type": "code",
   "execution_count": 29,
   "metadata": {},
   "outputs": [
    {
     "name": "stdout",
     "output_type": "stream",
     "text": [
      "Number of Containers:5\n",
      "Number of Carriers:10\n",
      "\n",
      "Containers K: [1 2 3 4 5]\n",
      "Carriers C: [ 1  2  3  4  5  6  7  8  9 10]\n",
      "Legs L: [1 2 3]\n"
     ]
    }
   ],
   "source": [
    "K = np.arange(1,int(input(\"Number of Containers:\"))+1)\n",
    "\n",
    "C = np.arange(1,int(input(\"Number of Carriers:\"))+1)\n",
    "\n",
    "L = np.arange(1,4)\n",
    "\n",
    "print(\"\\nContainers K:\", K)\n",
    "print(\"Carriers C:\", C)\n",
    "print(\"Legs L:\", L)\n"
   ]
  },
  {
   "cell_type": "markdown",
   "metadata": {},
   "source": [
    "### 2. Parameters\n",
    "\n",
    "   * $R_k$   : Release date for container $k$ [days]\n",
    "   * $S$     : fixed cost at stack [$/container]\n",
    "   \n",
    "   * ${S}'$  : variable cost at stack [($/day)/container]\n",
    "   \n",
    "   * $Z_{jk}$: 1 if container $k$ belongs to carrier $j$\n",
    "   * $M$     : Some large number\n",
    "   \n",
    "   "
   ]
  },
  {
   "cell_type": "code",
   "execution_count": 8,
   "metadata": {},
   "outputs": [],
   "source": [
    "import gurobipy as gp\n",
    "from gurobipy import Model, GRB, quicksum"
   ]
  },
  {
   "cell_type": "code",
   "execution_count": 3,
   "metadata": {},
   "outputs": [
    {
     "name": "stdout",
     "output_type": "stream",
     "text": [
      "Using license file /home/sugumarprabhakaran/gurobi.lic\n",
      "Academic license - for non-commercial use only\n"
     ]
    }
   ],
   "source": [
    "#Create a new model\n",
    "m = gp.Model(\"mip1\")"
   ]
  },
  {
   "cell_type": "markdown",
   "metadata": {},
   "source": [
    "### 3. Decision Variables\n",
    "\n",
    "   * Binary Variable: $x_{klc}$\n",
    "   $\\begin{equation}\n",
    "  =\\left\\{\n",
    "  \\begin{array}{@{}ll@{}}\n",
    "    1, & \\text{if}\\ \\text{container k travels leg l on chassis c} \\\\\n",
    "    0, & \\text{otherwise}\n",
    "  \\end{array}\\right.\n",
    "\\end{equation} $\n",
    "   * Start time $s$ of container $k$ on leg $l$ on chassis $c$: $s_{klc}$, where  $s_{klc} \\geq 0$"
   ]
  },
  {
   "cell_type": "code",
   "execution_count": 7,
   "metadata": {},
   "outputs": [],
   "source": [
    "#Create variables\n",
    "x = m.addVar(vtype=GRB.BINARY, name=\"x_klc\")\n",
    "s = m.addVar(vtype=GRB.INTEGER, name=\"s_klc\")"
   ]
  },
  {
   "cell_type": "markdown",
   "metadata": {},
   "source": [
    "### 3. Objective Function\n",
    "\n",
    "We want to minimize total cost:\n",
    "\n",
    "$min\\sum_{k \\in K}\\sum_{c \\in C}\\sum_{l \\in L}\\sum_{j \\in J}(T_j)\\cdot max\\left [(s_klc - R_k - T_{j}^{''})\\cdot Z_{jk}, 0  \\right ]$\n",
    " "
   ]
  },
  {
   "cell_type": "code",
   "execution_count": 24,
   "metadata": {},
   "outputs": [],
   "source": [
    "m.modelSense = GRB.MINIMIZE\n",
    "#m.setObjective()"
   ]
  },
  {
   "cell_type": "markdown",
   "metadata": {},
   "source": [
    "### 5. Constraints"
   ]
  },
  {
   "cell_type": "markdown",
   "metadata": {},
   "source": [
    "**(1) Container must go through leg 1 OR leg 2 AND 3**\n",
    "\n",
    "Each container k will have a x_klc value of 1 for either leg 1 or leg 2 so the sum of the two must be 1 for all containers (k) from all carriers (c).\n",
    "\n",
    "   * $\\sum_{c \\in C}(x_{k2c}) + \\sum_{c \\in C}(x_{k1c}) = 1, \\forall k \\in K$\n",
    "\n"
   ]
  },
  {
   "cell_type": "code",
   "execution_count": 27,
   "metadata": {},
   "outputs": [
    {
     "ename": "TypeError",
     "evalue": "unsupported operand type(s) for -: 'generator' and 'NoneType'",
     "output_type": "error",
     "traceback": [
      "\u001b[0;31m---------------------------------------------------------------------------\u001b[0m",
      "\u001b[0;31mTypeError\u001b[0m                                 Traceback (most recent call last)",
      "\u001b[0;32m<ipython-input-27-7e9d3410e5fa>\u001b[0m in \u001b[0;36m<module>\u001b[0;34m\u001b[0m\n\u001b[0;32m----> 1\u001b[0;31m \u001b[0mm\u001b[0m\u001b[0;34m.\u001b[0m\u001b[0maddConstr\u001b[0m\u001b[0;34m(\u001b[0m\u001b[0;34m(\u001b[0m\u001b[0mquicksum\u001b[0m\u001b[0;34m(\u001b[0m\u001b[0mx\u001b[0m\u001b[0;34m[\u001b[0m\u001b[0mk\u001b[0m\u001b[0;34m,\u001b[0m\u001b[0;36m1\u001b[0m\u001b[0;34m,\u001b[0m\u001b[0mc\u001b[0m\u001b[0;34m]\u001b[0m\u001b[0;34m)\u001b[0m \u001b[0;32mfor\u001b[0m \u001b[0mc\u001b[0m \u001b[0;32min\u001b[0m \u001b[0mC\u001b[0m\u001b[0;34m)\u001b[0m \u001b[0;34m==\u001b[0m\u001b[0;36m1\u001b[0m \u001b[0;32mfor\u001b[0m \u001b[0mk\u001b[0m \u001b[0;32min\u001b[0m \u001b[0mK\u001b[0m\u001b[0;34m)\u001b[0m\u001b[0;34m\u001b[0m\u001b[0;34m\u001b[0m\u001b[0m\n\u001b[0m",
      "\u001b[0;32mmodel.pxi\u001b[0m in \u001b[0;36mgurobipy.Model.addConstr\u001b[0;34m()\u001b[0m\n",
      "\u001b[0;31mTypeError\u001b[0m: unsupported operand type(s) for -: 'generator' and 'NoneType'"
     ]
    }
   ],
   "source": [
    "m.addConstr((quicksum(x[k,1,c]) for c in C) ==1 for k in K)"
   ]
  },
  {
   "cell_type": "code",
   "execution_count": null,
   "metadata": {},
   "outputs": [],
   "source": []
  }
 ],
 "metadata": {
  "kernelspec": {
   "display_name": "Python 3",
   "language": "python",
   "name": "python3"
  },
  "language_info": {
   "codemirror_mode": {
    "name": "ipython",
    "version": 3
   },
   "file_extension": ".py",
   "mimetype": "text/x-python",
   "name": "python",
   "nbconvert_exporter": "python",
   "pygments_lexer": "ipython3",
   "version": "3.7.7"
  }
 },
 "nbformat": 4,
 "nbformat_minor": 4
}
