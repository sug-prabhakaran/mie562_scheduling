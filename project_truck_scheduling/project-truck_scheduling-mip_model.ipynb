{
 "cells": [
  {
   "cell_type": "markdown",
   "metadata": {},
   "source": [
    "# MIE562 Project - Truck Scheduling - MIP Model\n",
    "\n",
    "**Team 5 - Dylan Camus, Ryan Do, Fan Jia, Mattheus Magelhaus, Sugumar Prabhakaran**\n",
    "**Date: 8 Nov 2020"
   ]
  },
  {
   "cell_type": "code",
   "execution_count": 65,
   "metadata": {},
   "outputs": [],
   "source": [
    "import numpy as np\n",
    "import gurobipy as gp\n",
    "from gurobipy import Model, GRB, quicksum\n",
    "from random import randint, seed\n",
    "\n",
    "seed(0)"
   ]
  },
  {
   "cell_type": "markdown",
   "metadata": {},
   "source": [
    "## Introduction\n",
    "\n",
    "### 1. Sets\n",
    "   * Each container $k$ is in a set of containers $K$: \n",
    "       * $k \\in K$, where $K = \\left \\{1,2,3,\\ldots,k  \\right \\}$\n",
    "       \n",
    "   * Each carrier $j$ is in a set of carriers $J$: \n",
    "       * $j \\in J$, where $J = \\left \\{1,2,3,\\ldots,j  \\right \\}$\n",
    "       \n",
    "   * Each chassis $c$ is in a set of chassis, $C$: \n",
    "       * $c \\in C$, where $C = \\left \\{1,2,3,\\ldots,c  \\right \\}$\n",
    " \n",
    "   * $L$ is the set of travel legs: $L = \\left \\{1,2,3\\right\\}$, where:\n",
    "       * $1$ : terminal to transloading facility leg\n",
    "       * $2$ : terminal to stack leg\n",
    "       * $3$ : stack to transloading facility leg"
   ]
  },
  {
   "cell_type": "code",
   "execution_count": 69,
   "metadata": {},
   "outputs": [
    {
     "name": "stdout",
     "output_type": "stream",
     "text": [
      "Number of Carriers:2\n",
      "Containers in Carrier #1:10\n",
      "Containers in Carrier #2:12\n",
      "Number of Chassis:8\n",
      "\n",
      "Carriers J: [1 2]\n",
      "Containers K (j,k): [(1, 1), (1, 2), (1, 3), (1, 4), (1, 5), (1, 6), (1, 7), (1, 8), (1, 9), (1, 10), (1, 11), (1, 12), (2, 1), (2, 2), (2, 3), (2, 4), (2, 5), (2, 6), (2, 7), (2, 8), (2, 9), (2, 10), (2, 11), (2, 12)]\n",
      "Chassis C: [1 2 3 4 5 6 7 8]\n",
      "Legs L: [1 2 3]\n"
     ]
    }
   ],
   "source": [
    "#Define Sets and recieve input for initial \"instances\"\n",
    "J = np.arange(1,int(input(\"Number of Carriers:\"))+1)\n",
    "\n",
    "for j in J:\n",
    "    containers = int(input(\"Containers in Carrier #{}:\".format(j)))\n",
    "\n",
    "K = [(j,k) for j in J for k in range(1,containers+1)]\n",
    "\n",
    "C = np.arange(1,int(input(\"Number of Chassis:\"))+1)\n",
    "\n",
    "L = np.arange(1,4)\n",
    "\n",
    "print(\"\\nCarriers J:\", J)\n",
    "print(\"Containers K (j,k):\", K)\n",
    "print(\"Chassis C:\", C)\n",
    "print(\"Legs L:\", L)"
   ]
  },
  {
   "cell_type": "code",
   "execution_count": 73,
   "metadata": {},
   "outputs": [],
   "source": [
    "#create a list of tuples containing every iteration of k,l,c\n",
    "A = [(k,l,c) for k in K for l in L for c in C]"
   ]
  },
  {
   "cell_type": "markdown",
   "metadata": {},
   "source": [
    "### 2. Parameters\n",
    "\n",
    "   * $R_k$   : Release date for container $k$ [days]\n",
    "   * $S$     : fixed cost at stack [$/container]\n",
    "   \n",
    "   * ${S}'$  : variable cost at stack [($/day)/container]\n",
    "   \n",
    "   * $Z_{jk}$: 1 if container $k$ belongs to carrier $j$\n",
    "   * $M$     : Some large number\n",
    "   \n",
    "   "
   ]
  },
  {
   "cell_type": "code",
   "execution_count": 113,
   "metadata": {},
   "outputs": [],
   "source": [
    "#Set Parameters\n",
    "R_k = {k:randint(0,5) for k in K}  # release date for container k[days]\n",
    "S = 200                            # $200 fixed cost at stack\n",
    "Sv = 20                            # $20/day/container variable cost at stack\n",
    "Z_jk = {(j,k):1 for j, k in K}     # not sure we need this one if we use tuples?\n",
    "M = 1000000                        #some large number"
   ]
  },
  {
   "cell_type": "code",
   "execution_count": 75,
   "metadata": {},
   "outputs": [],
   "source": [
    "#Create a new model\n",
    "model = gp.Model(\"Truck_Scheduling\")"
   ]
  },
  {
   "cell_type": "markdown",
   "metadata": {},
   "source": [
    "### 3. Decision Variables\n",
    "\n",
    "   * Binary Variable: $x_{klc}$\n",
    "   $\\begin{equation}\n",
    "  =\\left\\{\n",
    "  \\begin{array}{@{}ll@{}}\n",
    "    1, & \\text{if}\\ \\text{container k travels leg l on chassis c} \\\\\n",
    "    0, & \\text{otherwise}\n",
    "  \\end{array}\\right.\n",
    "\\end{equation} $\n",
    "   * Start time $s$ of container $k$ on leg $l$ on chassis $c$: $s_{klc}$, where  $s_{klc} \\geq 0$"
   ]
  },
  {
   "cell_type": "code",
   "execution_count": 76,
   "metadata": {},
   "outputs": [],
   "source": [
    "#Create decision variables\n",
    "x = model.addVars(A, vtype=GRB.BINARY, name=\"x_klc\")\n",
    "s = model.addVars(A, vtype=GRB.INTEGER, name=\"s_klc\")"
   ]
  },
  {
   "cell_type": "markdown",
   "metadata": {},
   "source": [
    "### 4. Objective Function\n",
    "\n",
    "We want to minimize total cost:\n",
    "\n",
    "$min\\sum_{k \\in K}\\sum_{c \\in C}\\sum_{l \\in L}\\sum_{j \\in J}(T_j)\\cdot max\\left [(s_klc - R_k - T_{j}^{''})\\cdot Z_{jk}, 0  \\right ]$\n",
    " "
   ]
  },
  {
   "cell_type": "code",
   "execution_count": 55,
   "metadata": {},
   "outputs": [],
   "source": [
    "#Define objective function\n",
    "model.modelSense = GRB.MINIMIZE\n",
    "#model.setObjective(quicksum(x[k,l,c]*2 for k,l,c in A))"
   ]
  },
  {
   "cell_type": "markdown",
   "metadata": {},
   "source": [
    "### 5. Constraints"
   ]
  },
  {
   "cell_type": "markdown",
   "metadata": {},
   "source": [
    "**(2) Release date constraint**\n",
    "\n",
    "Start time ($s_{klc}$) must be after release date ($R_k$) for every container that leaves terminal on either leg 1 or leg 2 (ie. $x_{klc}=1$):\n",
    "\n",
    "   * $s_{klc} \\geq R_{k}x_{klc}$, &nbsp;&nbsp;&nbsp;&nbsp;&nbsp;&nbsp;$\\forall k \\in K$, $l\\in L$, $c \\in C$ "
   ]
  },
  {
   "cell_type": "code",
   "execution_count": 101,
   "metadata": {},
   "outputs": [],
   "source": [
    "model.addConstrs(s[k,l,c]>= R_k[k]*x[k,l,c] for k in K for l in L for c in C);"
   ]
  },
  {
   "cell_type": "markdown",
   "metadata": {},
   "source": [
    "**(3) Containers going through leg 2 must go through leg 3**\n",
    "\n",
    "Each container k will have a x_klc value of 1 or 0 for both leg 2 and leg 3 depending on if they travel through them or not:\n",
    "\n",
    "   * $\\sum_{c \\in C}(x_{k2c}) = \\sum_{c \\in C}(x_{k3c})$,&nbsp;&nbsp;&nbsp;&nbsp;&nbsp;&nbsp;$\\forall k \\in K$"
   ]
  },
  {
   "cell_type": "code",
   "execution_count": 103,
   "metadata": {
    "scrolled": false
   },
   "outputs": [],
   "source": [
    "model.addConstrs(quicksum(x[k,2,c] for c in C)==quicksum(x[k,3,c] for c in C) for k in K);"
   ]
  },
  {
   "cell_type": "markdown",
   "metadata": {},
   "source": [
    "**(4) Container must go through leg 1 OR leg 2 AND 3**\n",
    "\n",
    "Each container ($k$) will have $x_klc = 1$ for either leg 1 or leg 2 so the sum of the two must be 1 for all containers ($k$) on all chassis ($c$).\n",
    "\n",
    "   * $\\sum_{c \\in C}(x_{k1c}) + \\sum_{c \\in C}(x_{k2c}) = 1$,&nbsp;&nbsp;&nbsp;&nbsp;&nbsp;&nbsp; $\\forall k \\in K$"
   ]
  },
  {
   "cell_type": "code",
   "execution_count": 110,
   "metadata": {},
   "outputs": [],
   "source": [
    "model.addConstrs(\n",
    "    (quicksum(x[k,1,c] for c in C) + quicksum(x[k,2,c] for c in C))==1 for k in K\n",
    ");"
   ]
  },
  {
   "cell_type": "markdown",
   "metadata": {},
   "source": [
    "**(5) Precedence Constraint: Leg 2 must be before Leg 3**\n",
    "\n",
    "Each container k will have a x_klc value of 1 for either leg 1 or leg 2 so the sum of the two must be 1 for all containers (k) on all chassis (c).\n",
    "\n",
    "   * $M\\sum_{c \\in C}(x_{k1c}) + \\sum_{c \\in C}(x_{k3c}s_{k3c}) \\geq = \\sum_{c \\in C}(x_{k2c}s_{k2c}) + \\Phi_{k2}$,&nbsp;&nbsp;&nbsp;&nbsp;&nbsp;&nbsp; $\\forall k \\in K$\n",
    "   "
   ]
  },
  {
   "cell_type": "code",
   "execution_count": 112,
   "metadata": {},
   "outputs": [],
   "source": [
    "model.addConstrs(\n",
    "    (quicksum(x[k,1,c] for c in C) + quicksum(x[k,3,c]*s[k,3,c] for c in C)) >= \n",
    "    (quicksum(x[k,2,c]*s[k,2,c] for c in C) + S) for k in K\n",
    ");\n",
    "#Note... Need to replace 'S' with 'Phi_k2' but haven't created that parameter yet"
   ]
  },
  {
   "cell_type": "markdown",
   "metadata": {},
   "source": [
    "**(6) Domain of $s_{klc}$**\n",
    "\n",
    "The start time ($s_{klc}$) must be greater than 0:\n",
    "\n",
    "   * $s_{klc} \\geq 0$,&nbsp;&nbsp;&nbsp;&nbsp;&nbsp;&nbsp; $\\forall k \\in K$, $l \\in L$, $c \\in C$"
   ]
  },
  {
   "cell_type": "code",
   "execution_count": 109,
   "metadata": {},
   "outputs": [],
   "source": [
    "model.addConstrs(s[k,l,c] >=0 for k in K for l in L for c in C);"
   ]
  }
 ],
 "metadata": {
  "kernelspec": {
   "display_name": "Python 3",
   "language": "python",
   "name": "python3"
  },
  "language_info": {
   "codemirror_mode": {
    "name": "ipython",
    "version": 3
   },
   "file_extension": ".py",
   "mimetype": "text/x-python",
   "name": "python",
   "nbconvert_exporter": "python",
   "pygments_lexer": "ipython3",
   "version": "3.7.7"
  }
 },
 "nbformat": 4,
 "nbformat_minor": 4
}
