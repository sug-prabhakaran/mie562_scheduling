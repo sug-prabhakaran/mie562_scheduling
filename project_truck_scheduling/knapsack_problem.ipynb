{
 "cells": [
  {
   "cell_type": "markdown",
   "metadata": {},
   "source": [
    "# Mathematical Model for KP\n",
    "\n",
    "### Variables: \n",
    "\n",
    "   $x_i=1$ if item $i$ is selected, $=0$ otherwise, for $i=0, \\dots, n-1$ LaTex Equations\n",
    "\n",
    "### Objective Function:\n",
    "\n",
    "$\\max \\sum_{i=0}^{n-1} p_i x_i$ (total profit)\n",
    "\n",
    "### subject to:\n",
    "\n",
    "   (1) $ \\sum_{i=0}^{n-1} w_i x_i \\leq c$ (total weight)\n",
    "\n",
    "   (2) $x_i \\in{0,1}$ for $i=0, \\dots, n-1$"
   ]
  },
  {
   "cell_type": "code",
   "execution_count": 1,
   "metadata": {},
   "outputs": [],
   "source": [
    "import pandas as pd\n",
    "import numpy as np\n",
    "import gurobipy as gp\n",
    "from gurobipy import *"
   ]
  },
  {
   "cell_type": "code",
   "execution_count": 2,
   "metadata": {},
   "outputs": [],
   "source": [
    "c = 9                     # knapsack capacity\n",
    "p = [6, 5, 8, 9, 6, 7, 3] # item profits\n",
    "w = [2, 3, 6, 7, 5, 9, 4] # item weights "
   ]
  },
  {
   "cell_type": "code",
   "execution_count": 3,
   "metadata": {},
   "outputs": [],
   "source": [
    "n = len(p) #number of items\n",
    "assert n == len(w), 'lengths of p and w should be the same'"
   ]
  },
  {
   "cell_type": "code",
   "execution_count": 4,
   "metadata": {},
   "outputs": [
    {
     "name": "stdout",
     "output_type": "stream",
     "text": [
      "Using license file /home/sugumarprabhakaran/gurobi.lic\n",
      "Academic license - for non-commercial use only\n",
      "Parameter LogToConsole unchanged\n",
      "   Value: 1  Min: 0  Max: 1  Default: 1\n",
      "Changed value of parameter TimeLimit to 60.0\n",
      "   Prev: inf  Min: 0.0  Max: inf  Default: inf\n",
      "Gurobi Optimizer version 9.0.3 build v9.0.3rc0 (linux64)\n",
      "Optimize a model with 1 rows, 7 columns and 7 nonzeros\n",
      "Model fingerprint: 0x4e10d17b\n",
      "Variable types: 0 continuous, 7 integer (7 binary)\n",
      "Coefficient statistics:\n",
      "  Matrix range     [2e+00, 9e+00]\n",
      "  Objective range  [3e+00, 9e+00]\n",
      "  Bounds range     [1e+00, 1e+00]\n",
      "  RHS range        [9e+00, 9e+00]\n",
      "Found heuristic solution: objective 14.0000000\n",
      "Presolve removed 1 rows and 7 columns\n",
      "Presolve time: 0.00s\n",
      "Presolve: All rows and columns removed\n",
      "\n",
      "Explored 0 nodes (0 simplex iterations) in 0.03 seconds\n",
      "Thread count was 1 (of 2 available processors)\n",
      "\n",
      "Solution count 2: 15 \n",
      "\n",
      "Optimal solution found (tolerance 1.00e-04)\n",
      "Best objective 1.500000000000e+01, best bound 1.500000000000e+01, gap 0.0000%\n"
     ]
    }
   ],
   "source": [
    "model = gp.Model()\n",
    "model.params.LogToConsole = True # display \n",
    "model.params.TimeLimit = 60 # seconds\n",
    "x = model.addVars(n, vtype=GRB.BINARY)\n",
    "model.setObjective(quicksum(p[i]*x[i] for i in range(n)), GRB.MAXIMIZE)\n",
    "\n",
    "model.addConstr(quicksum(w[i]*x[i] for i in range(n)) <= c)\n",
    "model.optimize()"
   ]
  },
  {
   "cell_type": "code",
   "execution_count": 5,
   "metadata": {},
   "outputs": [
    {
     "name": "stdout",
     "output_type": "stream",
     "text": [
      "Item 0 is selected\n",
      "Item 3 is selected\n"
     ]
    }
   ],
   "source": [
    "for i in range(n):\n",
    "    if x[i].X > 0.5:\n",
    "        print(\"Item\", i, \"is selected\")"
   ]
  },
  {
   "cell_type": "code",
   "execution_count": 6,
   "metadata": {},
   "outputs": [],
   "source": [
    "def model_kp(c, p, w, LogToConsole=True, TimeLimit=60):\n",
    "    n = len(p) #number of items\n",
    "    assert n == len(w), 'lengths of p and w should be the same'\n",
    "    model = gp.Model()\n",
    "    model.params.LogToConsole = LogToConsole # display \n",
    "    model.params.TimeLimit = TimeLimit # seconds\n",
    "    x = model.addVars(n, vtype=GRB.BINARY)\n",
    "    model.setObjective(quicksum(p[i]*x[i] for i in range(n)), GRB.MAXIMIZE)\n",
    "\n",
    "    model.addConstr(quicksum(w[i]*x[i] for i in range(n)) <= c)\n",
    "    model.optimize()\n",
    "    \n",
    "    #list comprehension to store selected items\n",
    "    #x[i].X <--- .X is a variable attribute for stored value\n",
    "    items_selected = [i for i in range(n) if x[i].X > 0.5]\n",
    "    total_profit = int(model.ObjVal)\n",
    "    return items_selected, total_profit"
   ]
  },
  {
   "cell_type": "code",
   "execution_count": 7,
   "metadata": {
    "scrolled": true
   },
   "outputs": [
    {
     "name": "stdout",
     "output_type": "stream",
     "text": [
      "Items selected are: [0, 3]\n",
      "Total profit is: 15\n"
     ]
    }
   ],
   "source": [
    "items_selected, total_profit = model_kp(c,p, w, False)\n",
    "print(\"Items selected are:\", items_selected)\n",
    "print(\"Total profit is:\", total_profit)"
   ]
  },
  {
   "cell_type": "code",
   "execution_count": 10,
   "metadata": {},
   "outputs": [],
   "source": [
    "from random import randint, seed\n",
    "\n",
    "seed(124)\n",
    "c = 1000\n",
    "w = [randint(5, 10) * 21 for i in range(100)]\n",
    "p = [randint(100, 120) * w[i] for i in range(100)]"
   ]
  },
  {
   "cell_type": "code",
   "execution_count": 12,
   "metadata": {},
   "outputs": [
    {
     "name": "stdout",
     "output_type": "stream",
     "text": [
      "Parameter LogToConsole unchanged\n",
      "   Value: 1  Min: 0  Max: 1  Default: 1\n",
      "Changed value of parameter TimeLimit to 60.0\n",
      "   Prev: inf  Min: 0.0  Max: inf  Default: inf\n",
      "Gurobi Optimizer version 9.0.3 build v9.0.3rc0 (linux64)\n",
      "Optimize a model with 1 rows, 100 columns and 100 nonzeros\n",
      "Model fingerprint: 0xfe477775\n",
      "Variable types: 0 continuous, 100 integer (100 binary)\n",
      "Coefficient statistics:\n",
      "  Matrix range     [1e+02, 2e+02]\n",
      "  Objective range  [1e+04, 2e+04]\n",
      "  Bounds range     [1e+00, 1e+00]\n",
      "  RHS range        [1e+03, 1e+03]\n",
      "Found heuristic solution: objective 110481.00000\n",
      "Presolve removed 1 rows and 100 columns\n",
      "Presolve time: 0.00s\n",
      "Presolve: All rows and columns removed\n",
      "\n",
      "Explored 0 nodes (0 simplex iterations) in 0.03 seconds\n",
      "Thread count was 1 (of 2 available processors)\n",
      "\n",
      "Solution count 2: 118083 \n",
      "\n",
      "Optimal solution found (tolerance 1.00e-04)\n",
      "Best objective 1.180830000000e+05, best bound 1.180830000000e+05, gap 0.0000%\n",
      "Items selected are: [11, 23, 62, 73, 81, 99]\n",
      "Total profit is: 118083\n"
     ]
    }
   ],
   "source": [
    "items_selected, total_profit = model_kp(c,p, w, True)\n",
    "print(\"Items selected are:\", items_selected)\n",
    "print(\"Total profit is:\", total_profit)"
   ]
  },
  {
   "cell_type": "code",
   "execution_count": null,
   "metadata": {},
   "outputs": [],
   "source": []
  }
 ],
 "metadata": {
  "kernelspec": {
   "display_name": "Python 3",
   "language": "python",
   "name": "python3"
  },
  "language_info": {
   "codemirror_mode": {
    "name": "ipython",
    "version": 3
   },
   "file_extension": ".py",
   "mimetype": "text/x-python",
   "name": "python",
   "nbconvert_exporter": "python",
   "pygments_lexer": "ipython3",
   "version": "3.7.7"
  }
 },
 "nbformat": 4,
 "nbformat_minor": 4
}
